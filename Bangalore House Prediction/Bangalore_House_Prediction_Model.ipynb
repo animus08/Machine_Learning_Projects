{
  "cells": [
    {
      "cell_type": "markdown",
      "metadata": {
        "id": "e_MRujfqtok_"
      },
      "source": [
        "## Importing Libraries and Dataset"
      ]
    },
    {
      "cell_type": "code",
      "execution_count": null,
      "metadata": {
        "id": "WdkuXCSXwOs_"
      },
      "outputs": [],
      "source": [
        "import numpy as np\n",
        "import pandas as pd\n",
        "import matplotlib.pyplot as plt\n",
        "import seaborn as sns"
      ]
    },
    {
      "cell_type": "code",
      "execution_count": null,
      "metadata": {
        "colab": {
          "base_uri": "https://localhost:8080/"
        },
        "id": "w-w1VG47rBzZ",
        "outputId": "3936ce3e-e6fc-4385-868e-153bc2841633"
      },
      "outputs": [
        {
          "output_type": "stream",
          "name": "stdout",
          "text": [
            "Mounted at /content/drive\n"
          ]
        }
      ],
      "source": [
        "from google.colab import drive\n",
        "drive.mount('/content/drive')"
      ]
    },
    {
      "cell_type": "code",
      "execution_count": null,
      "metadata": {
        "id": "V7RVcNoAHjeM",
        "colab": {
          "base_uri": "https://localhost:8080/"
        },
        "outputId": "3d875f0e-c93c-4008-bb66-65471012c814"
      },
      "outputs": [
        {
          "output_type": "execute_result",
          "data": {
            "text/plain": [
              "(11300, 178)"
            ]
          },
          "metadata": {},
          "execution_count": 3
        }
      ],
      "source": [
        "path = '/content/drive/MyDrive/Banglore House Prediction/BHP_Cleaned_Data.csv'\n",
        "df = pd.read_csv(path)\n",
        "df.shape"
      ]
    },
    {
      "cell_type": "code",
      "execution_count": null,
      "metadata": {
        "id": "iZumrSH4xoky"
      },
      "outputs": [],
      "source": [
        "# pd.set_option(\"display.max_columns\",None)\n",
        "# pd.set_option(\"display.max_rows\",None)"
      ]
    },
    {
      "cell_type": "code",
      "execution_count": null,
      "metadata": {
        "id": "w5K7qWOHsMql",
        "colab": {
          "base_uri": "https://localhost:8080/",
          "height": 461
        },
        "outputId": "0d5369ca-52f9-4ded-f1cd-69078bf2a71b"
      },
      "outputs": [
        {
          "output_type": "execute_result",
          "data": {
            "text/plain": [
              "       size_bhk  total_sqft  bath  balcony   price  price_per_sqft  \\\n",
              "0           2.0      1056.0   2.0      1.0   39.07     3699.810606   \n",
              "1           4.0      2600.0   5.0      3.0  120.00     4615.384615   \n",
              "2           3.0      1440.0   2.0      3.0   62.00     4305.555556   \n",
              "3           3.0      1521.0   3.0      1.0   95.00     6245.890861   \n",
              "4           2.0      1200.0   2.0      1.0   51.00     4250.000000   \n",
              "...         ...         ...   ...      ...     ...             ...   \n",
              "11295       5.0      3453.0   4.0      0.0  231.00     6689.834926   \n",
              "11296       4.0      3600.0   5.0      2.0  400.00    11111.111111   \n",
              "11297       2.0      1141.0   2.0      1.0   60.00     5258.545136   \n",
              "11298       4.0      4689.0   4.0      1.0  488.00    10407.336319   \n",
              "11299       1.0       550.0   1.0      1.0   17.00     3090.909091   \n",
              "\n",
              "       availability  area_type_Built-up  Area  area_type_Carpet  Area  \\\n",
              "0                 0                         0                       0   \n",
              "1                 1                         0                       0   \n",
              "2                 1                         1                       0   \n",
              "3                 1                         0                       0   \n",
              "4                 1                         0                       0   \n",
              "...             ...                       ...                     ...   \n",
              "11295             1                         1                       0   \n",
              "11296             1                         0                       0   \n",
              "11297             1                         1                       0   \n",
              "11298             0                         0                       0   \n",
              "11299             1                         0                       0   \n",
              "\n",
              "       area_type_Plot  Area  ...  location_Varthur  location_Vidyaranyapura  \\\n",
              "0                         0  ...                 0                        0   \n",
              "1                         1  ...                 0                        0   \n",
              "2                         0  ...                 0                        0   \n",
              "3                         0  ...                 0                        0   \n",
              "4                         0  ...                 0                        0   \n",
              "...                     ...  ...               ...                      ...   \n",
              "11295                     0  ...                 0                        0   \n",
              "11296                     0  ...                 0                        0   \n",
              "11297                     0  ...                 0                        0   \n",
              "11298                     0  ...                 0                        0   \n",
              "11299                     0  ...                 0                        0   \n",
              "\n",
              "       location_Vijayanagar  location_Vittasandra  location_Whitefield  \\\n",
              "0                         0                     0                    0   \n",
              "1                         0                     0                    0   \n",
              "2                         0                     0                    0   \n",
              "3                         0                     0                    0   \n",
              "4                         0                     0                    0   \n",
              "...                     ...                   ...                  ...   \n",
              "11295                     0                     0                    1   \n",
              "11296                     0                     0                    0   \n",
              "11297                     0                     0                    0   \n",
              "11298                     0                     0                    0   \n",
              "11299                     0                     0                    0   \n",
              "\n",
              "       location_Yelachenahalli  location_Yelahanka  \\\n",
              "0                            0                   0   \n",
              "1                            0                   0   \n",
              "2                            0                   0   \n",
              "3                            0                   0   \n",
              "4                            0                   0   \n",
              "...                        ...                 ...   \n",
              "11295                        0                   0   \n",
              "11296                        0                   0   \n",
              "11297                        0                   0   \n",
              "11298                        0                   0   \n",
              "11299                        0                   0   \n",
              "\n",
              "       location_Yelahanka New Town  location_Yeshwanthpur  location_other  \n",
              "0                                0                      0               0  \n",
              "1                                0                      0               0  \n",
              "2                                0                      0               0  \n",
              "3                                0                      0               0  \n",
              "4                                0                      0               0  \n",
              "...                            ...                    ...             ...  \n",
              "11295                            0                      0               0  \n",
              "11296                            0                      0               1  \n",
              "11297                            0                      0               0  \n",
              "11298                            0                      0               0  \n",
              "11299                            0                      0               0  \n",
              "\n",
              "[11300 rows x 178 columns]"
            ],
            "text/html": [
              "\n",
              "  <div id=\"df-a65bf6f5-4931-4c06-b39d-1fbdc14fedf8\" class=\"colab-df-container\">\n",
              "    <div>\n",
              "<style scoped>\n",
              "    .dataframe tbody tr th:only-of-type {\n",
              "        vertical-align: middle;\n",
              "    }\n",
              "\n",
              "    .dataframe tbody tr th {\n",
              "        vertical-align: top;\n",
              "    }\n",
              "\n",
              "    .dataframe thead th {\n",
              "        text-align: right;\n",
              "    }\n",
              "</style>\n",
              "<table border=\"1\" class=\"dataframe\">\n",
              "  <thead>\n",
              "    <tr style=\"text-align: right;\">\n",
              "      <th></th>\n",
              "      <th>size_bhk</th>\n",
              "      <th>total_sqft</th>\n",
              "      <th>bath</th>\n",
              "      <th>balcony</th>\n",
              "      <th>price</th>\n",
              "      <th>price_per_sqft</th>\n",
              "      <th>availability</th>\n",
              "      <th>area_type_Built-up  Area</th>\n",
              "      <th>area_type_Carpet  Area</th>\n",
              "      <th>area_type_Plot  Area</th>\n",
              "      <th>...</th>\n",
              "      <th>location_Varthur</th>\n",
              "      <th>location_Vidyaranyapura</th>\n",
              "      <th>location_Vijayanagar</th>\n",
              "      <th>location_Vittasandra</th>\n",
              "      <th>location_Whitefield</th>\n",
              "      <th>location_Yelachenahalli</th>\n",
              "      <th>location_Yelahanka</th>\n",
              "      <th>location_Yelahanka New Town</th>\n",
              "      <th>location_Yeshwanthpur</th>\n",
              "      <th>location_other</th>\n",
              "    </tr>\n",
              "  </thead>\n",
              "  <tbody>\n",
              "    <tr>\n",
              "      <th>0</th>\n",
              "      <td>2.0</td>\n",
              "      <td>1056.0</td>\n",
              "      <td>2.0</td>\n",
              "      <td>1.0</td>\n",
              "      <td>39.07</td>\n",
              "      <td>3699.810606</td>\n",
              "      <td>0</td>\n",
              "      <td>0</td>\n",
              "      <td>0</td>\n",
              "      <td>0</td>\n",
              "      <td>...</td>\n",
              "      <td>0</td>\n",
              "      <td>0</td>\n",
              "      <td>0</td>\n",
              "      <td>0</td>\n",
              "      <td>0</td>\n",
              "      <td>0</td>\n",
              "      <td>0</td>\n",
              "      <td>0</td>\n",
              "      <td>0</td>\n",
              "      <td>0</td>\n",
              "    </tr>\n",
              "    <tr>\n",
              "      <th>1</th>\n",
              "      <td>4.0</td>\n",
              "      <td>2600.0</td>\n",
              "      <td>5.0</td>\n",
              "      <td>3.0</td>\n",
              "      <td>120.00</td>\n",
              "      <td>4615.384615</td>\n",
              "      <td>1</td>\n",
              "      <td>0</td>\n",
              "      <td>0</td>\n",
              "      <td>1</td>\n",
              "      <td>...</td>\n",
              "      <td>0</td>\n",
              "      <td>0</td>\n",
              "      <td>0</td>\n",
              "      <td>0</td>\n",
              "      <td>0</td>\n",
              "      <td>0</td>\n",
              "      <td>0</td>\n",
              "      <td>0</td>\n",
              "      <td>0</td>\n",
              "      <td>0</td>\n",
              "    </tr>\n",
              "    <tr>\n",
              "      <th>2</th>\n",
              "      <td>3.0</td>\n",
              "      <td>1440.0</td>\n",
              "      <td>2.0</td>\n",
              "      <td>3.0</td>\n",
              "      <td>62.00</td>\n",
              "      <td>4305.555556</td>\n",
              "      <td>1</td>\n",
              "      <td>1</td>\n",
              "      <td>0</td>\n",
              "      <td>0</td>\n",
              "      <td>...</td>\n",
              "      <td>0</td>\n",
              "      <td>0</td>\n",
              "      <td>0</td>\n",
              "      <td>0</td>\n",
              "      <td>0</td>\n",
              "      <td>0</td>\n",
              "      <td>0</td>\n",
              "      <td>0</td>\n",
              "      <td>0</td>\n",
              "      <td>0</td>\n",
              "    </tr>\n",
              "    <tr>\n",
              "      <th>3</th>\n",
              "      <td>3.0</td>\n",
              "      <td>1521.0</td>\n",
              "      <td>3.0</td>\n",
              "      <td>1.0</td>\n",
              "      <td>95.00</td>\n",
              "      <td>6245.890861</td>\n",
              "      <td>1</td>\n",
              "      <td>0</td>\n",
              "      <td>0</td>\n",
              "      <td>0</td>\n",
              "      <td>...</td>\n",
              "      <td>0</td>\n",
              "      <td>0</td>\n",
              "      <td>0</td>\n",
              "      <td>0</td>\n",
              "      <td>0</td>\n",
              "      <td>0</td>\n",
              "      <td>0</td>\n",
              "      <td>0</td>\n",
              "      <td>0</td>\n",
              "      <td>0</td>\n",
              "    </tr>\n",
              "    <tr>\n",
              "      <th>4</th>\n",
              "      <td>2.0</td>\n",
              "      <td>1200.0</td>\n",
              "      <td>2.0</td>\n",
              "      <td>1.0</td>\n",
              "      <td>51.00</td>\n",
              "      <td>4250.000000</td>\n",
              "      <td>1</td>\n",
              "      <td>0</td>\n",
              "      <td>0</td>\n",
              "      <td>0</td>\n",
              "      <td>...</td>\n",
              "      <td>0</td>\n",
              "      <td>0</td>\n",
              "      <td>0</td>\n",
              "      <td>0</td>\n",
              "      <td>0</td>\n",
              "      <td>0</td>\n",
              "      <td>0</td>\n",
              "      <td>0</td>\n",
              "      <td>0</td>\n",
              "      <td>0</td>\n",
              "    </tr>\n",
              "    <tr>\n",
              "      <th>...</th>\n",
              "      <td>...</td>\n",
              "      <td>...</td>\n",
              "      <td>...</td>\n",
              "      <td>...</td>\n",
              "      <td>...</td>\n",
              "      <td>...</td>\n",
              "      <td>...</td>\n",
              "      <td>...</td>\n",
              "      <td>...</td>\n",
              "      <td>...</td>\n",
              "      <td>...</td>\n",
              "      <td>...</td>\n",
              "      <td>...</td>\n",
              "      <td>...</td>\n",
              "      <td>...</td>\n",
              "      <td>...</td>\n",
              "      <td>...</td>\n",
              "      <td>...</td>\n",
              "      <td>...</td>\n",
              "      <td>...</td>\n",
              "      <td>...</td>\n",
              "    </tr>\n",
              "    <tr>\n",
              "      <th>11295</th>\n",
              "      <td>5.0</td>\n",
              "      <td>3453.0</td>\n",
              "      <td>4.0</td>\n",
              "      <td>0.0</td>\n",
              "      <td>231.00</td>\n",
              "      <td>6689.834926</td>\n",
              "      <td>1</td>\n",
              "      <td>1</td>\n",
              "      <td>0</td>\n",
              "      <td>0</td>\n",
              "      <td>...</td>\n",
              "      <td>0</td>\n",
              "      <td>0</td>\n",
              "      <td>0</td>\n",
              "      <td>0</td>\n",
              "      <td>1</td>\n",
              "      <td>0</td>\n",
              "      <td>0</td>\n",
              "      <td>0</td>\n",
              "      <td>0</td>\n",
              "      <td>0</td>\n",
              "    </tr>\n",
              "    <tr>\n",
              "      <th>11296</th>\n",
              "      <td>4.0</td>\n",
              "      <td>3600.0</td>\n",
              "      <td>5.0</td>\n",
              "      <td>2.0</td>\n",
              "      <td>400.00</td>\n",
              "      <td>11111.111111</td>\n",
              "      <td>1</td>\n",
              "      <td>0</td>\n",
              "      <td>0</td>\n",
              "      <td>0</td>\n",
              "      <td>...</td>\n",
              "      <td>0</td>\n",
              "      <td>0</td>\n",
              "      <td>0</td>\n",
              "      <td>0</td>\n",
              "      <td>0</td>\n",
              "      <td>0</td>\n",
              "      <td>0</td>\n",
              "      <td>0</td>\n",
              "      <td>0</td>\n",
              "      <td>1</td>\n",
              "    </tr>\n",
              "    <tr>\n",
              "      <th>11297</th>\n",
              "      <td>2.0</td>\n",
              "      <td>1141.0</td>\n",
              "      <td>2.0</td>\n",
              "      <td>1.0</td>\n",
              "      <td>60.00</td>\n",
              "      <td>5258.545136</td>\n",
              "      <td>1</td>\n",
              "      <td>1</td>\n",
              "      <td>0</td>\n",
              "      <td>0</td>\n",
              "      <td>...</td>\n",
              "      <td>0</td>\n",
              "      <td>0</td>\n",
              "      <td>0</td>\n",
              "      <td>0</td>\n",
              "      <td>0</td>\n",
              "      <td>0</td>\n",
              "      <td>0</td>\n",
              "      <td>0</td>\n",
              "      <td>0</td>\n",
              "      <td>0</td>\n",
              "    </tr>\n",
              "    <tr>\n",
              "      <th>11298</th>\n",
              "      <td>4.0</td>\n",
              "      <td>4689.0</td>\n",
              "      <td>4.0</td>\n",
              "      <td>1.0</td>\n",
              "      <td>488.00</td>\n",
              "      <td>10407.336319</td>\n",
              "      <td>0</td>\n",
              "      <td>0</td>\n",
              "      <td>0</td>\n",
              "      <td>0</td>\n",
              "      <td>...</td>\n",
              "      <td>0</td>\n",
              "      <td>0</td>\n",
              "      <td>0</td>\n",
              "      <td>0</td>\n",
              "      <td>0</td>\n",
              "      <td>0</td>\n",
              "      <td>0</td>\n",
              "      <td>0</td>\n",
              "      <td>0</td>\n",
              "      <td>0</td>\n",
              "    </tr>\n",
              "    <tr>\n",
              "      <th>11299</th>\n",
              "      <td>1.0</td>\n",
              "      <td>550.0</td>\n",
              "      <td>1.0</td>\n",
              "      <td>1.0</td>\n",
              "      <td>17.00</td>\n",
              "      <td>3090.909091</td>\n",
              "      <td>1</td>\n",
              "      <td>0</td>\n",
              "      <td>0</td>\n",
              "      <td>0</td>\n",
              "      <td>...</td>\n",
              "      <td>0</td>\n",
              "      <td>0</td>\n",
              "      <td>0</td>\n",
              "      <td>0</td>\n",
              "      <td>0</td>\n",
              "      <td>0</td>\n",
              "      <td>0</td>\n",
              "      <td>0</td>\n",
              "      <td>0</td>\n",
              "      <td>0</td>\n",
              "    </tr>\n",
              "  </tbody>\n",
              "</table>\n",
              "<p>11300 rows × 178 columns</p>\n",
              "</div>\n",
              "    <div class=\"colab-df-buttons\">\n",
              "\n",
              "  <div class=\"colab-df-container\">\n",
              "    <button class=\"colab-df-convert\" onclick=\"convertToInteractive('df-a65bf6f5-4931-4c06-b39d-1fbdc14fedf8')\"\n",
              "            title=\"Convert this dataframe to an interactive table.\"\n",
              "            style=\"display:none;\">\n",
              "\n",
              "  <svg xmlns=\"http://www.w3.org/2000/svg\" height=\"24px\" viewBox=\"0 -960 960 960\">\n",
              "    <path d=\"M120-120v-720h720v720H120Zm60-500h600v-160H180v160Zm220 220h160v-160H400v160Zm0 220h160v-160H400v160ZM180-400h160v-160H180v160Zm440 0h160v-160H620v160ZM180-180h160v-160H180v160Zm440 0h160v-160H620v160Z\"/>\n",
              "  </svg>\n",
              "    </button>\n",
              "\n",
              "  <style>\n",
              "    .colab-df-container {\n",
              "      display:flex;\n",
              "      gap: 12px;\n",
              "    }\n",
              "\n",
              "    .colab-df-convert {\n",
              "      background-color: #E8F0FE;\n",
              "      border: none;\n",
              "      border-radius: 50%;\n",
              "      cursor: pointer;\n",
              "      display: none;\n",
              "      fill: #1967D2;\n",
              "      height: 32px;\n",
              "      padding: 0 0 0 0;\n",
              "      width: 32px;\n",
              "    }\n",
              "\n",
              "    .colab-df-convert:hover {\n",
              "      background-color: #E2EBFA;\n",
              "      box-shadow: 0px 1px 2px rgba(60, 64, 67, 0.3), 0px 1px 3px 1px rgba(60, 64, 67, 0.15);\n",
              "      fill: #174EA6;\n",
              "    }\n",
              "\n",
              "    .colab-df-buttons div {\n",
              "      margin-bottom: 4px;\n",
              "    }\n",
              "\n",
              "    [theme=dark] .colab-df-convert {\n",
              "      background-color: #3B4455;\n",
              "      fill: #D2E3FC;\n",
              "    }\n",
              "\n",
              "    [theme=dark] .colab-df-convert:hover {\n",
              "      background-color: #434B5C;\n",
              "      box-shadow: 0px 1px 3px 1px rgba(0, 0, 0, 0.15);\n",
              "      filter: drop-shadow(0px 1px 2px rgba(0, 0, 0, 0.3));\n",
              "      fill: #FFFFFF;\n",
              "    }\n",
              "  </style>\n",
              "\n",
              "    <script>\n",
              "      const buttonEl =\n",
              "        document.querySelector('#df-a65bf6f5-4931-4c06-b39d-1fbdc14fedf8 button.colab-df-convert');\n",
              "      buttonEl.style.display =\n",
              "        google.colab.kernel.accessAllowed ? 'block' : 'none';\n",
              "\n",
              "      async function convertToInteractive(key) {\n",
              "        const element = document.querySelector('#df-a65bf6f5-4931-4c06-b39d-1fbdc14fedf8');\n",
              "        const dataTable =\n",
              "          await google.colab.kernel.invokeFunction('convertToInteractive',\n",
              "                                                    [key], {});\n",
              "        if (!dataTable) return;\n",
              "\n",
              "        const docLinkHtml = 'Like what you see? Visit the ' +\n",
              "          '<a target=\"_blank\" href=https://colab.research.google.com/notebooks/data_table.ipynb>data table notebook</a>'\n",
              "          + ' to learn more about interactive tables.';\n",
              "        element.innerHTML = '';\n",
              "        dataTable['output_type'] = 'display_data';\n",
              "        await google.colab.output.renderOutput(dataTable, element);\n",
              "        const docLink = document.createElement('div');\n",
              "        docLink.innerHTML = docLinkHtml;\n",
              "        element.appendChild(docLink);\n",
              "      }\n",
              "    </script>\n",
              "  </div>\n",
              "\n",
              "\n",
              "    <div id=\"df-a22f6dc1-ba21-49a5-9fa4-c63fdd4e310f\">\n",
              "      <button class=\"colab-df-quickchart\" onclick=\"quickchart('df-a22f6dc1-ba21-49a5-9fa4-c63fdd4e310f')\"\n",
              "                title=\"Suggest charts\"\n",
              "                style=\"display:none;\">\n",
              "\n",
              "<svg xmlns=\"http://www.w3.org/2000/svg\" height=\"24px\"viewBox=\"0 0 24 24\"\n",
              "     width=\"24px\">\n",
              "    <g>\n",
              "        <path d=\"M19 3H5c-1.1 0-2 .9-2 2v14c0 1.1.9 2 2 2h14c1.1 0 2-.9 2-2V5c0-1.1-.9-2-2-2zM9 17H7v-7h2v7zm4 0h-2V7h2v10zm4 0h-2v-4h2v4z\"/>\n",
              "    </g>\n",
              "</svg>\n",
              "      </button>\n",
              "\n",
              "<style>\n",
              "  .colab-df-quickchart {\n",
              "      --bg-color: #E8F0FE;\n",
              "      --fill-color: #1967D2;\n",
              "      --hover-bg-color: #E2EBFA;\n",
              "      --hover-fill-color: #174EA6;\n",
              "      --disabled-fill-color: #AAA;\n",
              "      --disabled-bg-color: #DDD;\n",
              "  }\n",
              "\n",
              "  [theme=dark] .colab-df-quickchart {\n",
              "      --bg-color: #3B4455;\n",
              "      --fill-color: #D2E3FC;\n",
              "      --hover-bg-color: #434B5C;\n",
              "      --hover-fill-color: #FFFFFF;\n",
              "      --disabled-bg-color: #3B4455;\n",
              "      --disabled-fill-color: #666;\n",
              "  }\n",
              "\n",
              "  .colab-df-quickchart {\n",
              "    background-color: var(--bg-color);\n",
              "    border: none;\n",
              "    border-radius: 50%;\n",
              "    cursor: pointer;\n",
              "    display: none;\n",
              "    fill: var(--fill-color);\n",
              "    height: 32px;\n",
              "    padding: 0;\n",
              "    width: 32px;\n",
              "  }\n",
              "\n",
              "  .colab-df-quickchart:hover {\n",
              "    background-color: var(--hover-bg-color);\n",
              "    box-shadow: 0 1px 2px rgba(60, 64, 67, 0.3), 0 1px 3px 1px rgba(60, 64, 67, 0.15);\n",
              "    fill: var(--button-hover-fill-color);\n",
              "  }\n",
              "\n",
              "  .colab-df-quickchart-complete:disabled,\n",
              "  .colab-df-quickchart-complete:disabled:hover {\n",
              "    background-color: var(--disabled-bg-color);\n",
              "    fill: var(--disabled-fill-color);\n",
              "    box-shadow: none;\n",
              "  }\n",
              "\n",
              "  .colab-df-spinner {\n",
              "    border: 2px solid var(--fill-color);\n",
              "    border-color: transparent;\n",
              "    border-bottom-color: var(--fill-color);\n",
              "    animation:\n",
              "      spin 1s steps(1) infinite;\n",
              "  }\n",
              "\n",
              "  @keyframes spin {\n",
              "    0% {\n",
              "      border-color: transparent;\n",
              "      border-bottom-color: var(--fill-color);\n",
              "      border-left-color: var(--fill-color);\n",
              "    }\n",
              "    20% {\n",
              "      border-color: transparent;\n",
              "      border-left-color: var(--fill-color);\n",
              "      border-top-color: var(--fill-color);\n",
              "    }\n",
              "    30% {\n",
              "      border-color: transparent;\n",
              "      border-left-color: var(--fill-color);\n",
              "      border-top-color: var(--fill-color);\n",
              "      border-right-color: var(--fill-color);\n",
              "    }\n",
              "    40% {\n",
              "      border-color: transparent;\n",
              "      border-right-color: var(--fill-color);\n",
              "      border-top-color: var(--fill-color);\n",
              "    }\n",
              "    60% {\n",
              "      border-color: transparent;\n",
              "      border-right-color: var(--fill-color);\n",
              "    }\n",
              "    80% {\n",
              "      border-color: transparent;\n",
              "      border-right-color: var(--fill-color);\n",
              "      border-bottom-color: var(--fill-color);\n",
              "    }\n",
              "    90% {\n",
              "      border-color: transparent;\n",
              "      border-bottom-color: var(--fill-color);\n",
              "    }\n",
              "  }\n",
              "</style>\n",
              "\n",
              "      <script>\n",
              "        async function quickchart(key) {\n",
              "          const quickchartButtonEl =\n",
              "            document.querySelector('#' + key + ' button');\n",
              "          quickchartButtonEl.disabled = true;  // To prevent multiple clicks.\n",
              "          quickchartButtonEl.classList.add('colab-df-spinner');\n",
              "          try {\n",
              "            const charts = await google.colab.kernel.invokeFunction(\n",
              "                'suggestCharts', [key], {});\n",
              "          } catch (error) {\n",
              "            console.error('Error during call to suggestCharts:', error);\n",
              "          }\n",
              "          quickchartButtonEl.classList.remove('colab-df-spinner');\n",
              "          quickchartButtonEl.classList.add('colab-df-quickchart-complete');\n",
              "        }\n",
              "        (() => {\n",
              "          let quickchartButtonEl =\n",
              "            document.querySelector('#df-a22f6dc1-ba21-49a5-9fa4-c63fdd4e310f button');\n",
              "          quickchartButtonEl.style.display =\n",
              "            google.colab.kernel.accessAllowed ? 'block' : 'none';\n",
              "        })();\n",
              "      </script>\n",
              "    </div>\n",
              "\n",
              "  <div id=\"id_1fffaa06-e65b-4cf5-8731-79996cb8515b\">\n",
              "    <style>\n",
              "      .colab-df-generate {\n",
              "        background-color: #E8F0FE;\n",
              "        border: none;\n",
              "        border-radius: 50%;\n",
              "        cursor: pointer;\n",
              "        display: none;\n",
              "        fill: #1967D2;\n",
              "        height: 32px;\n",
              "        padding: 0 0 0 0;\n",
              "        width: 32px;\n",
              "      }\n",
              "\n",
              "      .colab-df-generate:hover {\n",
              "        background-color: #E2EBFA;\n",
              "        box-shadow: 0px 1px 2px rgba(60, 64, 67, 0.3), 0px 1px 3px 1px rgba(60, 64, 67, 0.15);\n",
              "        fill: #174EA6;\n",
              "      }\n",
              "\n",
              "      [theme=dark] .colab-df-generate {\n",
              "        background-color: #3B4455;\n",
              "        fill: #D2E3FC;\n",
              "      }\n",
              "\n",
              "      [theme=dark] .colab-df-generate:hover {\n",
              "        background-color: #434B5C;\n",
              "        box-shadow: 0px 1px 3px 1px rgba(0, 0, 0, 0.15);\n",
              "        filter: drop-shadow(0px 1px 2px rgba(0, 0, 0, 0.3));\n",
              "        fill: #FFFFFF;\n",
              "      }\n",
              "    </style>\n",
              "    <button class=\"colab-df-generate\" onclick=\"generateWithVariable('df')\"\n",
              "            title=\"Generate code using this dataframe.\"\n",
              "            style=\"display:none;\">\n",
              "\n",
              "  <svg xmlns=\"http://www.w3.org/2000/svg\" height=\"24px\"viewBox=\"0 0 24 24\"\n",
              "       width=\"24px\">\n",
              "    <path d=\"M7,19H8.4L18.45,9,17,7.55,7,17.6ZM5,21V16.75L18.45,3.32a2,2,0,0,1,2.83,0l1.4,1.43a1.91,1.91,0,0,1,.58,1.4,1.91,1.91,0,0,1-.58,1.4L9.25,21ZM18.45,9,17,7.55Zm-12,3A5.31,5.31,0,0,0,4.9,8.1,5.31,5.31,0,0,0,1,6.5,5.31,5.31,0,0,0,4.9,4.9,5.31,5.31,0,0,0,6.5,1,5.31,5.31,0,0,0,8.1,4.9,5.31,5.31,0,0,0,12,6.5,5.46,5.46,0,0,0,6.5,12Z\"/>\n",
              "  </svg>\n",
              "    </button>\n",
              "    <script>\n",
              "      (() => {\n",
              "      const buttonEl =\n",
              "        document.querySelector('#id_1fffaa06-e65b-4cf5-8731-79996cb8515b button.colab-df-generate');\n",
              "      buttonEl.style.display =\n",
              "        google.colab.kernel.accessAllowed ? 'block' : 'none';\n",
              "\n",
              "      buttonEl.onclick = () => {\n",
              "        google.colab.notebook.generateWithVariable('df');\n",
              "      }\n",
              "      })();\n",
              "    </script>\n",
              "  </div>\n",
              "\n",
              "    </div>\n",
              "  </div>\n"
            ],
            "application/vnd.google.colaboratory.intrinsic+json": {
              "type": "dataframe",
              "variable_name": "df"
            }
          },
          "metadata": {},
          "execution_count": 5
        }
      ],
      "source": [
        "df"
      ]
    },
    {
      "cell_type": "markdown",
      "metadata": {
        "id": "kWNn59nUH-hS"
      },
      "source": [
        "## Split Dataset in train and test"
      ]
    },
    {
      "cell_type": "code",
      "execution_count": null,
      "metadata": {
        "id": "1tqEl7Nntf97",
        "colab": {
          "base_uri": "https://localhost:8080/"
        },
        "outputId": "e21131f4-e678-4b2c-b87b-4b2c27a12d3b"
      },
      "outputs": [
        {
          "output_type": "stream",
          "name": "stdout",
          "text": [
            "Shape of x =  (11300, 177)\n",
            "Shape of y=  (11300,)\n"
          ]
        }
      ],
      "source": [
        "X = df.drop(\"price\",axis=1)\n",
        "Y = df['price']\n",
        "\n",
        "print('Shape of x = ' , X.shape)\n",
        "print('Shape of y= ', Y.shape)"
      ]
    },
    {
      "cell_type": "code",
      "execution_count": null,
      "metadata": {
        "id": "7-RO0LDCINYc",
        "colab": {
          "base_uri": "https://localhost:8080/"
        },
        "outputId": "36a3f9b5-4eaf-4b11-bf68-4176d8529b76"
      },
      "outputs": [
        {
          "output_type": "stream",
          "name": "stdout",
          "text": [
            "Shape of X_train =  (8475, 177)\n",
            "Shape of Y_train =  (8475,)\n",
            "Shape of X_test =  (2825, 177)\n",
            "Shape of Y_test =  (2825,)\n"
          ]
        }
      ],
      "source": [
        "from sklearn.model_selection import train_test_split\n",
        "X_train, X_test, Y_train, Y_test = train_test_split(X, Y, test_size=0.25, random_state=51)\n",
        "\n",
        "print('Shape of X_train = ', X_train.shape)\n",
        "print('Shape of Y_train = ', Y_train.shape)\n",
        "print('Shape of X_test = ', X_test.shape)\n",
        "print('Shape of Y_test = ', Y_test.shape)"
      ]
    },
    {
      "cell_type": "markdown",
      "metadata": {
        "id": "UiFNdMd-JZS9"
      },
      "source": [
        "## Feature Scaling"
      ]
    },
    {
      "cell_type": "code",
      "execution_count": null,
      "metadata": {
        "id": "7e4IneY4JI2V"
      },
      "outputs": [],
      "source": [
        "from sklearn.preprocessing import StandardScaler\n",
        "sc = StandardScaler()\n",
        "sc.fit(X_train)\n",
        "X_train = sc.transform(X_train)\n",
        "X_test = sc.transform(X_test)"
      ]
    },
    {
      "cell_type": "markdown",
      "metadata": {
        "id": "QeTepS92EEy6"
      },
      "source": [
        "# Machine Learning Model Training"
      ]
    },
    {
      "cell_type": "markdown",
      "metadata": {
        "id": "wWwsSBLko9os"
      },
      "source": [
        "## Linear Regression- ML Model Training"
      ]
    },
    {
      "cell_type": "code",
      "execution_count": null,
      "metadata": {
        "id": "jhI8MEznJ-y5"
      },
      "outputs": [],
      "source": [
        "from sklearn.linear_model import LinearRegression\n",
        "from sklearn.linear_model import Ridge\n",
        "from sklearn.linear_model import Lasso\n",
        "from sklearn.metrics import mean_squared_error\n",
        "\n",
        "lr = LinearRegression()\n",
        "lr_lasso = Lasso()\n",
        "lr_ridge = Ridge()"
      ]
    },
    {
      "cell_type": "code",
      "execution_count": null,
      "metadata": {
        "id": "nI-6FPsnFSFZ"
      },
      "outputs": [],
      "source": [
        "def rmse(y_test, y_pred):\n",
        "  return np.sqrt(mean_squared_error(y_test, y_pred))"
      ]
    },
    {
      "cell_type": "code",
      "execution_count": null,
      "metadata": {
        "id": "MAOKFmj7FjQC",
        "colab": {
          "base_uri": "https://localhost:8080/"
        },
        "outputId": "bde259df-5b62-412c-f747-c15b645b5a1d"
      },
      "outputs": [
        {
          "output_type": "stream",
          "name": "stdout",
          "text": [
            "Score =  0.939262238892707\n",
            "RMSE =  18.021658322342017\n"
          ]
        }
      ],
      "source": [
        "lr.fit(X_train, Y_train)\n",
        "lr_score = lr.score(X_test, Y_test)\n",
        "lr_rmse = rmse(Y_test, lr.predict(X_test))\n",
        "print('Score = ', lr_score)\n",
        "print('RMSE = ', lr_rmse)"
      ]
    },
    {
      "cell_type": "code",
      "execution_count": null,
      "metadata": {
        "id": "vFPZJ9CyKOX3",
        "colab": {
          "base_uri": "https://localhost:8080/"
        },
        "outputId": "f531f3c9-ca9e-412b-fe61-a26077794974"
      },
      "outputs": [
        {
          "output_type": "execute_result",
          "data": {
            "text/plain": [
              "0.9440187933996391"
            ]
          },
          "metadata": {},
          "execution_count": 12
        }
      ],
      "source": [
        "lr_sc = lr.score(X_train, Y_train)\n",
        "lr_sc"
      ]
    },
    {
      "cell_type": "code",
      "execution_count": null,
      "metadata": {
        "id": "cM-al8JIG9Ry",
        "colab": {
          "base_uri": "https://localhost:8080/"
        },
        "outputId": "f47f8159-7366-4e09-f868-f7c82547a25d"
      },
      "outputs": [
        {
          "output_type": "stream",
          "name": "stdout",
          "text": [
            "Score =  0.9359850363944618\n",
            "RMSE =  18.50146478582429\n"
          ]
        }
      ],
      "source": [
        "# Lasso\n",
        "lr_lasso.fit(X_train, Y_train)\n",
        "lr_lasso_score = lr_lasso.score(X_test, Y_test)\n",
        "lr_lasso_rmse = rmse(Y_test, lr_lasso.predict(X_test))\n",
        "print('Score = ', lr_lasso_score)\n",
        "print('RMSE = ', lr_lasso_rmse)"
      ]
    },
    {
      "cell_type": "markdown",
      "metadata": {
        "id": "BZ_1ig9bHJBl"
      },
      "source": [
        "## Support Vector Machine"
      ]
    },
    {
      "cell_type": "code",
      "execution_count": null,
      "metadata": {
        "id": "9hCCcKc8FjNh",
        "colab": {
          "base_uri": "https://localhost:8080/"
        },
        "outputId": "879c7f69-fd84-4d60-8257-7ea9dbeb986d"
      },
      "outputs": [
        {
          "output_type": "stream",
          "name": "stdout",
          "text": [
            "Score =  0.5034500153324932\n",
            "RMSE =  51.52842265341406\n"
          ]
        }
      ],
      "source": [
        "from sklearn.svm import SVR\n",
        "svr = SVR()\n",
        "svr.fit(X_train, Y_train)\n",
        "svr_score = svr.score(X_test, Y_test)\n",
        "svr_rmse = rmse(Y_test, svr.predict(X_test))\n",
        "print('Score = ', svr_score)\n",
        "print('RMSE = ', svr_rmse)"
      ]
    },
    {
      "cell_type": "markdown",
      "metadata": {
        "id": "XrcgTqYbHabJ"
      },
      "source": [
        "## Random Forest Regressor"
      ]
    },
    {
      "cell_type": "code",
      "execution_count": null,
      "metadata": {
        "id": "iRiAPuhVFjKy",
        "colab": {
          "base_uri": "https://localhost:8080/"
        },
        "outputId": "aef90ed6-d81e-4fbc-b946-06d356c70e03"
      },
      "outputs": [
        {
          "output_type": "stream",
          "name": "stdout",
          "text": [
            "Score =  0.9960243510854596\n",
            "RMSE =  4.6107266404281635\n"
          ]
        }
      ],
      "source": [
        "from sklearn.ensemble import RandomForestRegressor\n",
        "rfr = RandomForestRegressor()\n",
        "rfr.fit(X_train, Y_train)\n",
        "rfr_score = rfr.score(X_test, Y_test)\n",
        "rfr_rmse = rmse(Y_test, rfr.predict(X_test))\n",
        "print('Score = ', rfr_score)\n",
        "print('RMSE = ', rfr_rmse)"
      ]
    },
    {
      "cell_type": "code",
      "execution_count": null,
      "metadata": {
        "id": "dD3TH51QZWo1",
        "colab": {
          "base_uri": "https://localhost:8080/"
        },
        "outputId": "39c6b97e-1204-4f45-8316-f96b36af2142"
      },
      "outputs": [
        {
          "output_type": "execute_result",
          "data": {
            "text/plain": [
              "array([134.31   ,  74.556  ,  37.61395, ...,  41.0095 , 225.68   ,\n",
              "        48.0076 ])"
            ]
          },
          "metadata": {},
          "execution_count": 16
        }
      ],
      "source": [
        "rfr.predict(X_train)"
      ]
    },
    {
      "cell_type": "code",
      "execution_count": null,
      "metadata": {
        "id": "36JwkywDZZaF",
        "colab": {
          "base_uri": "https://localhost:8080/",
          "height": 458
        },
        "outputId": "801ff7b9-b9c2-4544-d152-c1dc0566ff6e"
      },
      "outputs": [
        {
          "output_type": "execute_result",
          "data": {
            "text/plain": [
              "1202    135.00\n",
              "5571     75.00\n",
              "6230     37.62\n",
              "280      56.00\n",
              "1671     54.21\n",
              "         ...  \n",
              "1460     30.00\n",
              "1733     56.41\n",
              "1760     41.00\n",
              "485     225.00\n",
              "2105     48.00\n",
              "Name: price, Length: 8475, dtype: float64"
            ],
            "text/html": [
              "<div>\n",
              "<style scoped>\n",
              "    .dataframe tbody tr th:only-of-type {\n",
              "        vertical-align: middle;\n",
              "    }\n",
              "\n",
              "    .dataframe tbody tr th {\n",
              "        vertical-align: top;\n",
              "    }\n",
              "\n",
              "    .dataframe thead th {\n",
              "        text-align: right;\n",
              "    }\n",
              "</style>\n",
              "<table border=\"1\" class=\"dataframe\">\n",
              "  <thead>\n",
              "    <tr style=\"text-align: right;\">\n",
              "      <th></th>\n",
              "      <th>price</th>\n",
              "    </tr>\n",
              "  </thead>\n",
              "  <tbody>\n",
              "    <tr>\n",
              "      <th>1202</th>\n",
              "      <td>135.00</td>\n",
              "    </tr>\n",
              "    <tr>\n",
              "      <th>5571</th>\n",
              "      <td>75.00</td>\n",
              "    </tr>\n",
              "    <tr>\n",
              "      <th>6230</th>\n",
              "      <td>37.62</td>\n",
              "    </tr>\n",
              "    <tr>\n",
              "      <th>280</th>\n",
              "      <td>56.00</td>\n",
              "    </tr>\n",
              "    <tr>\n",
              "      <th>1671</th>\n",
              "      <td>54.21</td>\n",
              "    </tr>\n",
              "    <tr>\n",
              "      <th>...</th>\n",
              "      <td>...</td>\n",
              "    </tr>\n",
              "    <tr>\n",
              "      <th>1460</th>\n",
              "      <td>30.00</td>\n",
              "    </tr>\n",
              "    <tr>\n",
              "      <th>1733</th>\n",
              "      <td>56.41</td>\n",
              "    </tr>\n",
              "    <tr>\n",
              "      <th>1760</th>\n",
              "      <td>41.00</td>\n",
              "    </tr>\n",
              "    <tr>\n",
              "      <th>485</th>\n",
              "      <td>225.00</td>\n",
              "    </tr>\n",
              "    <tr>\n",
              "      <th>2105</th>\n",
              "      <td>48.00</td>\n",
              "    </tr>\n",
              "  </tbody>\n",
              "</table>\n",
              "<p>8475 rows × 1 columns</p>\n",
              "</div><br><label><b>dtype:</b> float64</label>"
            ]
          },
          "metadata": {},
          "execution_count": 17
        }
      ],
      "source": [
        "Y_train"
      ]
    },
    {
      "cell_type": "markdown",
      "metadata": {
        "id": "S2WU8z7BHoeh"
      },
      "source": [
        "##XGBoost"
      ]
    },
    {
      "cell_type": "code",
      "execution_count": null,
      "metadata": {
        "id": "GQVj0OyTHqqR",
        "colab": {
          "base_uri": "https://localhost:8080/"
        },
        "outputId": "bf70eacf-c146-4456-8316-3cd1a7dc34d7"
      },
      "outputs": [
        {
          "output_type": "stream",
          "name": "stdout",
          "text": [
            "Score =  0.9938925153439621\n",
            "RMSE =  5.714741025198279\n"
          ]
        }
      ],
      "source": [
        "import xgboost\n",
        "xgb_reg = xgboost.XGBRegressor()\n",
        "xgb_reg.fit(X_train, Y_train)\n",
        "xgb_reg_score = xgb_reg.score(X_test, Y_test)\n",
        "xgb_reg_rmse = rmse(Y_test, xgb_reg.predict(X_test))\n",
        "print('Score = ', xgb_reg_score)\n",
        "print('RMSE = ', xgb_reg_rmse)"
      ]
    },
    {
      "cell_type": "code",
      "execution_count": null,
      "metadata": {
        "id": "rXhm-y_0Hz78",
        "colab": {
          "base_uri": "https://localhost:8080/"
        },
        "outputId": "a041f89d-3865-44af-9ad6-e81aaa6addca"
      },
      "outputs": [
        {
          "output_type": "stream",
          "name": "stdout",
          "text": [
            "                    Model     Score       RMSE\n",
            "0       Linear Regression  0.939262  18.021658\n",
            "1                   Lasso  0.935985  18.501465\n",
            "2  Support Vector Machine  0.503450  51.528423\n",
            "3           Random Forest  0.996024   4.610727\n",
            "4                 XGBoost  0.993893   5.714741\n"
          ]
        }
      ],
      "source": [
        "print(pd.DataFrame([{'Model':'Linear Regression', 'Score':lr_score, 'RMSE':lr_rmse},\n",
        "                    {'Model':'Lasso', 'Score':lr_lasso_score, 'RMSE':lr_lasso_rmse},\n",
        "                    {'Model':'Support Vector Machine', 'Score':svr_score, 'RMSE':svr_rmse},\n",
        "                    {'Model':'Random Forest', 'Score':rfr_score, 'RMSE':rfr_rmse},\n",
        "                    {'Model':'XGBoost', 'Score':xgb_reg_score, 'RMSE':xgb_reg_rmse}],\n",
        "                   columns = ['Model', 'Score', 'RMSE']))"
      ]
    },
    {
      "cell_type": "markdown",
      "metadata": {
        "id": "QsIqsG-eMzbq"
      },
      "source": [
        "## Cross Validation"
      ]
    },
    {
      "cell_type": "code",
      "execution_count": null,
      "metadata": {
        "id": "X29rciNIHz5R",
        "colab": {
          "base_uri": "https://localhost:8080/"
        },
        "outputId": "e24e6a95-a3c2-4642-d7c7-322fa7be29c2"
      },
      "outputs": [
        {
          "output_type": "stream",
          "name": "stdout",
          "text": [
            "[0.99857306 0.99887833 0.99614509 0.9965744  0.99778075 0.99734108\n",
            " 0.99891946 0.99819195 0.99499575 0.998251  ]\n",
            "0.9975650866297849\n"
          ]
        }
      ],
      "source": [
        "from sklearn.model_selection import KFold, cross_val_score\n",
        "cvs = cross_val_score(rfr, X_train, Y_train, cv = 10)\n",
        "print(cvs)\n",
        "print(np.mean(cvs))"
      ]
    },
    {
      "cell_type": "code",
      "execution_count": null,
      "metadata": {
        "id": "lQv3r4hENsL9",
        "colab": {
          "base_uri": "https://localhost:8080/"
        },
        "outputId": "d9604931-489b-4f22-b261-9daafd1b4e26"
      },
      "outputs": [
        {
          "output_type": "stream",
          "name": "stdout",
          "text": [
            "[0.99709564 0.99690721 0.99397977 0.99574217 0.99593776 0.99576323\n",
            " 0.99801056 0.99795435 0.99545338 0.99612551]\n",
            "0.9962969577962835\n"
          ]
        }
      ],
      "source": [
        "cvs_xgb_reg = cross_val_score(xgb_reg, X_train, Y_train, cv = 10)\n",
        "print(cvs_xgb_reg)\n",
        "print(np.mean(cvs_xgb_reg))"
      ]
    },
    {
      "cell_type": "markdown",
      "metadata": {
        "id": "gjvNQcrROGyT"
      },
      "source": [
        "## Hyper Parameter Tuning"
      ]
    },
    {
      "cell_type": "code",
      "execution_count": null,
      "metadata": {
        "id": "opTnhwncq0U8"
      },
      "outputs": [],
      "source": [
        "# Number of trees\n",
        "n_estimators = [100, 230, 300, 400]\n",
        "\n",
        "# Maximum depth of the trees\n",
        "max_depth = [9, 18, 27, 39]\n",
        "\n",
        "# Minimum number of samples required to split an internal node\n",
        "min_samples_split = [2, 6, 10, 15]\n",
        "\n",
        "# Minimum number of samples required to be at a leaf node\n",
        "min_samples_leaf = [1, 5, 10, 15]\n",
        "\n",
        "# Number of features to consider for the best split\n",
        "max_features = ['auto', 'sqrt', 'log2']"
      ]
    },
    {
      "cell_type": "code",
      "execution_count": null,
      "metadata": {
        "id": "ooFoP-cXwCs-",
        "colab": {
          "base_uri": "https://localhost:8080/"
        },
        "outputId": "bf5b5b65-e076-4863-e635-9c724caa4a2e"
      },
      "outputs": [
        {
          "output_type": "stream",
          "name": "stdout",
          "text": [
            "{'n_estimators': [100, 230, 300, 400], 'max_depth': [9, 18, 27, 39], 'min_samples_split': [2, 6, 10, 15], 'min_samples_leaf': [1, 5, 10, 15], 'max_features': ['auto', 'sqrt', 'log2']}\n"
          ]
        }
      ],
      "source": [
        "# Make parameters\n",
        "parameters = {'n_estimators':n_estimators,\n",
        "              'max_depth':max_depth,\n",
        "              'min_samples_split':min_samples_split,\n",
        "              'min_samples_leaf':min_samples_leaf,\n",
        "              'max_features':max_features\n",
        "}\n",
        "print(parameters)"
      ]
    },
    {
      "cell_type": "code",
      "execution_count": null,
      "metadata": {
        "id": "-79XlM0dwYmY"
      },
      "outputs": [],
      "source": [
        "# Define the Random Forest Regressor model\n",
        "rfr1 = RandomForestRegressor()"
      ]
    },
    {
      "cell_type": "code",
      "execution_count": null,
      "metadata": {
        "id": "kmff_CexNsJT"
      },
      "outputs": [],
      "source": [
        "from sklearn.model_selection import GridSearchCV\n",
        "from sklearn.ensemble import RandomForestRegressor\n",
        "\n",
        "# Set up GridSearchCV\n",
        "# cv is the number of folds for cross-validation\n",
        "# n_jobs = -1 uses all available processors\n",
        "rf_grid = GridSearchCV(rfr1,\n",
        "                       parameters,\n",
        "                       cv=5,\n",
        "                       n_jobs=-1,\n",
        "                       verbose=True)"
      ]
    },
    {
      "cell_type": "code",
      "execution_count": null,
      "metadata": {
        "id": "OAks1L3yNsGa"
      },
      "outputs": [],
      "source": [
        "# # Fit GridSearchCV to the training data\n",
        "# # Note: This might take some time depending on the size of your dataset and the complexity of the grid\n",
        "# rf_grid.fit(X_train, Y_train)"
      ]
    },
    {
      "cell_type": "code",
      "execution_count": null,
      "metadata": {
        "id": "NcJZe_EbxEkX"
      },
      "outputs": [],
      "source": [
        "# # Print the best score and parameters found\n",
        "# print('Best Score:', rf_grid.best_score_)\n",
        "# print('Best Parameters:', rf_grid.best_params_)"
      ]
    },
    {
      "cell_type": "markdown",
      "metadata": {
        "id": "WzmK5iocMOrH"
      },
      "source": [
        "# Test Model"
      ]
    },
    {
      "cell_type": "code",
      "execution_count": null,
      "metadata": {
        "id": "oo-pJ5g3xVl-",
        "colab": {
          "base_uri": "https://localhost:8080/"
        },
        "outputId": "a15860d8-9eb4-4361-b4fe-0565e3d1b7c1"
      },
      "outputs": [
        {
          "output_type": "execute_result",
          "data": {
            "text/plain": [
              "['size_bhk',\n",
              " 'total_sqft',\n",
              " 'bath',\n",
              " 'balcony',\n",
              " 'price_per_sqft',\n",
              " 'availability',\n",
              " 'area_type_Built-up  Area',\n",
              " 'area_type_Carpet  Area',\n",
              " 'area_type_Plot  Area',\n",
              " 'area_type_Super built-up  Area',\n",
              " 'location_1st Phase JP Nagar',\n",
              " 'location_5th Phase JP Nagar',\n",
              " 'location_6th Phase JP Nagar',\n",
              " 'location_7th Phase JP Nagar',\n",
              " 'location_8th Phase JP Nagar',\n",
              " 'location_9th Phase JP Nagar',\n",
              " 'location_Abbigere',\n",
              " 'location_Akshaya Nagar',\n",
              " 'location_Ambalipura',\n",
              " 'location_Ambedkar Nagar',\n",
              " 'location_Amruthahalli',\n",
              " 'location_Anandapura',\n",
              " 'location_Ananth Nagar',\n",
              " 'location_Anekal',\n",
              " 'location_Anjanapura',\n",
              " 'location_Ardendale',\n",
              " 'location_Arekere',\n",
              " 'location_Attibele',\n",
              " 'location_BTM 2nd Stage',\n",
              " 'location_BTM Layout',\n",
              " 'location_Babusapalaya',\n",
              " 'location_Balagere',\n",
              " 'location_Banashankari',\n",
              " 'location_Banashankari Stage III',\n",
              " 'location_Bannerghatta',\n",
              " 'location_Bannerghatta Road',\n",
              " 'location_Basavangudi',\n",
              " 'location_Battarahalli',\n",
              " 'location_Begur',\n",
              " 'location_Begur Road',\n",
              " 'location_Bellandur',\n",
              " 'location_Bhoganhalli',\n",
              " 'location_Billekahalli',\n",
              " 'location_Binny Pete',\n",
              " 'location_Bommanahalli',\n",
              " 'location_Bommasandra',\n",
              " 'location_Bommasandra Industrial Area',\n",
              " 'location_Brookefield',\n",
              " 'location_Budigere',\n",
              " 'location_CV Raman Nagar',\n",
              " 'location_Chandapura',\n",
              " 'location_Channasandra',\n",
              " 'location_Chikka Tirupathi',\n",
              " 'location_Chikkalasandra',\n",
              " 'location_Choodasandra',\n",
              " 'location_Cooke Town',\n",
              " 'location_Dasarahalli',\n",
              " 'location_Devanahalli',\n",
              " 'location_Dodda Nekkundi',\n",
              " 'location_Doddathoguru',\n",
              " 'location_Domlur',\n",
              " 'location_EPIP Zone',\n",
              " 'location_Electronic City',\n",
              " 'location_Electronic City Phase II',\n",
              " 'location_Electronics City Phase 1',\n",
              " 'location_Frazer Town',\n",
              " 'location_Garudachar Palya',\n",
              " 'location_Gottigere',\n",
              " 'location_Green Glen Layout',\n",
              " 'location_Gubbalala',\n",
              " 'location_Gunjur',\n",
              " 'location_HBR Layout',\n",
              " 'location_HSR Layout',\n",
              " 'location_Haralur Road',\n",
              " 'location_Harlur',\n",
              " 'location_Hebbal',\n",
              " 'location_Hebbal Kempapura',\n",
              " 'location_Hegde Nagar',\n",
              " 'location_Hennur',\n",
              " 'location_Hennur Road',\n",
              " 'location_Hoodi',\n",
              " 'location_Horamavu Agara',\n",
              " 'location_Horamavu Banaswadi',\n",
              " 'location_Hormavu',\n",
              " 'location_Hosa Road',\n",
              " 'location_Hosakerehalli',\n",
              " 'location_Hoskote',\n",
              " 'location_Hosur Road',\n",
              " 'location_Hulimavu',\n",
              " 'location_Iblur Village',\n",
              " 'location_Indira Nagar',\n",
              " 'location_JP Nagar',\n",
              " 'location_Jakkur',\n",
              " 'location_Jalahalli',\n",
              " 'location_Jigani',\n",
              " 'location_KR Puram',\n",
              " 'location_Kadugodi',\n",
              " 'location_Kaggadasapura',\n",
              " 'location_Kaggalipura',\n",
              " 'location_Kaikondrahalli',\n",
              " 'location_Kalena Agrahara',\n",
              " 'location_Kalyan nagar',\n",
              " 'location_Kambipura',\n",
              " 'location_Kammasandra',\n",
              " 'location_Kanakapura',\n",
              " 'location_Kanakpura Road',\n",
              " 'location_Kannamangala',\n",
              " 'location_Kasavanhalli',\n",
              " 'location_Kathriguppe',\n",
              " 'location_Kaval Byrasandra',\n",
              " 'location_Kengeri',\n",
              " 'location_Kengeri Satellite Town',\n",
              " 'location_Kereguddadahalli',\n",
              " 'location_Kodichikkanahalli',\n",
              " 'location_Kogilu',\n",
              " 'location_Koramangala',\n",
              " 'location_Kothannur',\n",
              " 'location_Kothanur',\n",
              " 'location_Kudlu',\n",
              " 'location_Kudlu Gate',\n",
              " 'location_Kumaraswami Layout',\n",
              " 'location_Kundalahalli',\n",
              " 'location_Lakshminarayana Pura',\n",
              " 'location_Lingadheeranahalli',\n",
              " 'location_Magadi Road',\n",
              " 'location_Mahadevpura',\n",
              " 'location_Malleshpalya',\n",
              " 'location_Malleshwaram',\n",
              " 'location_Marathahalli',\n",
              " 'location_Margondanahalli',\n",
              " 'location_Munnekollal',\n",
              " 'location_Mysore Road',\n",
              " 'location_Nagarbhavi',\n",
              " 'location_Nagavara',\n",
              " 'location_Nagavarapalya',\n",
              " 'location_OMBR Layout',\n",
              " 'location_Old Airport Road',\n",
              " 'location_Old Madras Road',\n",
              " 'location_Padmanabhanagar',\n",
              " 'location_Pai Layout',\n",
              " 'location_Panathur',\n",
              " 'location_Parappana Agrahara',\n",
              " 'location_Poorna Pragna Layout',\n",
              " 'location_R.T. Nagar',\n",
              " 'location_Rachenahalli',\n",
              " 'location_Raja Rajeshwari Nagar',\n",
              " 'location_Rajaji Nagar',\n",
              " 'location_Ramagondanahalli',\n",
              " 'location_Ramamurthy Nagar',\n",
              " 'location_Rayasandra',\n",
              " 'location_Sahakara Nagar',\n",
              " 'location_Sanjay nagar',\n",
              " 'location_Sarjapur',\n",
              " 'location_Sarjapur  Road',\n",
              " 'location_Sarjapura - Attibele Road',\n",
              " 'location_Seegehalli',\n",
              " 'location_Singasandra',\n",
              " 'location_Somasundara Palya',\n",
              " 'location_Sonnenahalli',\n",
              " 'location_Subramanyapura',\n",
              " 'location_TC Palaya',\n",
              " 'location_Talaghattapura',\n",
              " 'location_Thanisandra',\n",
              " 'location_Thigalarapalya',\n",
              " 'location_Thubarahalli',\n",
              " 'location_Tumkur Road',\n",
              " 'location_Uttarahalli',\n",
              " 'location_Varthur',\n",
              " 'location_Vidyaranyapura',\n",
              " 'location_Vijayanagar',\n",
              " 'location_Vittasandra',\n",
              " 'location_Whitefield',\n",
              " 'location_Yelachenahalli',\n",
              " 'location_Yelahanka',\n",
              " 'location_Yelahanka New Town',\n",
              " 'location_Yeshwanthpur',\n",
              " 'location_other']"
            ]
          },
          "metadata": {},
          "execution_count": 28
        }
      ],
      "source": [
        "list(X.columns)"
      ]
    },
    {
      "cell_type": "code",
      "execution_count": null,
      "metadata": {
        "id": "A3iWLZkXk--2"
      },
      "outputs": [],
      "source": [
        "import numpy as np\n",
        "\n",
        "def predict_house_price(model, X_columns, sc, bath, balcony, total_sqft, bhk, price_per_sqft, availability, area_type, location):\n",
        "    \"\"\"\n",
        "    Predicts the price of a house based on a given model and features.\n",
        "\n",
        "    Args:\n",
        "        model: The trained machine learning model.\n",
        "        X_columns: The columns of the training DataFrame (used to find feature indexes).\n",
        "        sc: The fitted StandardScaler object for feature scaling.\n",
        "        bath (float): The number of bathrooms.\n",
        "        balcony (float): The number of balconies.\n",
        "        total_sqft (float): The total square footage of the house.\n",
        "        bhk (float): The number of bedrooms (from the 'size' column).\n",
        "        price_per_sqft (float): The price per square foot.\n",
        "        availability (str): The availability status ('Available' or 'Might Not Be Available').\n",
        "        area_type (str): The area type (e.g., 'Super built-up  Area').\n",
        "        location (str): The location of the house (e.g., 'Whitefield').\n",
        "\n",
        "    Returns:\n",
        "        float: The predicted price of the house in rupees.\n",
        "    \"\"\"\n",
        "    # Create a zero-filled array with the same number of features as the training data.\n",
        "    # This array will hold the feature values for our single house.\n",
        "    x = np.zeros(len(X_columns))\n",
        "\n",
        "    # Assign numerical feature values to their correct positions using dynamic lookup.\n",
        "    # This avoids hardcoding indexes, which can lead to errors if the column order changes.\n",
        "    try:\n",
        "        x[X_columns.get_loc('total_sqft')] = total_sqft\n",
        "        x[X_columns.get_loc('bath')] = bath\n",
        "        x[X_columns.get_loc('balcony')] = balcony\n",
        "        x[X_columns.get_loc('size_bhk')] = bhk # Corrected column name to match DataFrame\n",
        "        x[X_columns.get_loc('price_per_sqft')] = price_per_sqft\n",
        "    except KeyError as e:\n",
        "        print(f\"Warning: A numerical column was not found. Please check your data. Error: {e}\")\n",
        "        return None\n",
        "\n",
        "    # Handle one-hot encoded categorical features using try-except for robustness.\n",
        "    # We check if the provided category exists in our training data columns.\n",
        "\n",
        "    # Process 'availability' column.\n",
        "    if availability == 'Ready To Move':\n",
        "        try:\n",
        "            # The dummy column name is 'availability_1' if 'Ready To Move' was one-hot encoded.\n",
        "            availability_index = X_columns.get_loc('availability_1')\n",
        "            x[availability_index] = 1\n",
        "        except KeyError:\n",
        "            # This should not happen if the 'Ready To Move' category exists.\n",
        "            pass\n",
        "\n",
        "    # Process 'area_type' column.\n",
        "    try:\n",
        "        # Construct column name, replacing all whitespace with underscores\n",
        "        area_type_col = f'area_type_{\"_\".join(area_type.split())}'\n",
        "        area_type_index = X_columns.get_loc(area_type_col)\n",
        "        x[area_type_index] = 1\n",
        "    except KeyError:\n",
        "        print(f\"Warning: area_type '{area_type}' not found in training data. Assuming a value of 0.\")\n",
        "        pass\n",
        "\n",
        "    # Process 'location' column.\n",
        "    try:\n",
        "        # Construct column name, replacing all whitespace with underscores\n",
        "        location_col = f'location_{\"_\".join(location.split())}'\n",
        "        loc_index = X_columns.get_loc(location_col)\n",
        "        x[loc_index] = 1\n",
        "    except KeyError:\n",
        "        print(f\"Warning: location '{location}' not found in training data. Assuming the 'other' category.\")\n",
        "        # If location is not found, its value remains 0, which corresponds to the 'other' category\n",
        "        # (assuming 'other' was the first category dropped).\n",
        "        pass\n",
        "\n",
        "    # Reshape the input array to be a 2D array with 1 row for the scaler.\n",
        "    x_reshaped = x.reshape(1, -1)\n",
        "\n",
        "    # Scale the input array using the fitted StandardScaler.\n",
        "    x_scaled = sc.transform(x_reshaped)\n",
        "\n",
        "    # Make a prediction with the model.\n",
        "    predicted_price = model.predict(x_scaled)[0]\n",
        "\n",
        "    # Return the predicted price.\n",
        "    return predicted_price"
      ]
    },
    {
      "cell_type": "code",
      "execution_count": null,
      "metadata": {
        "id": "kHILK8efRWFX",
        "colab": {
          "base_uri": "https://localhost:8080/"
        },
        "outputId": "3e88c688-768b-4812-df22-adace02927c5"
      },
      "outputs": [
        {
          "output_type": "stream",
          "name": "stdout",
          "text": [
            "Warning: area_type 'Super built-up  Area' not found in training data. Assuming a value of 0.\n"
          ]
        },
        {
          "output_type": "stream",
          "name": "stderr",
          "text": [
            "/usr/local/lib/python3.12/dist-packages/sklearn/utils/validation.py:2739: UserWarning: X does not have valid feature names, but StandardScaler was fitted with feature names\n",
            "  warnings.warn(\n"
          ]
        },
        {
          "output_type": "execute_result",
          "data": {
            "text/plain": [
              "np.float64(119.735)"
            ]
          },
          "metadata": {},
          "execution_count": 31
        }
      ],
      "source": [
        "predict_house_price(model=rfr, X_columns=X.columns, sc=sc, bath=5, balcony=3, total_sqft=2600.0, bhk=4, price_per_sqft=4615.384615, availability=\"Ready To Move\", area_type=\"Super built-up  Area\", location=\"Anjanapura\")"
      ]
    },
    {
      "cell_type": "code",
      "execution_count": null,
      "metadata": {
        "id": "c08wdzM5oDzH",
        "colab": {
          "base_uri": "https://localhost:8080/"
        },
        "outputId": "e8306816-552d-437c-d39d-64869f017f5c"
      },
      "outputs": [
        {
          "output_type": "stream",
          "name": "stdout",
          "text": [
            "Warning: area_type 'Super built-up  Area' not found in training data. Assuming a value of 0.\n"
          ]
        },
        {
          "output_type": "stream",
          "name": "stderr",
          "text": [
            "/usr/local/lib/python3.12/dist-packages/sklearn/utils/validation.py:2739: UserWarning: X does not have valid feature names, but StandardScaler was fitted with feature names\n",
            "  warnings.warn(\n"
          ]
        },
        {
          "output_type": "execute_result",
          "data": {
            "text/plain": [
              "np.float64(150.45)"
            ]
          },
          "metadata": {},
          "execution_count": 32
        }
      ],
      "source": [
        "predict_house_price(model=rfr, X_columns=X.columns, sc=sc, bath=3, balcony=2, total_sqft=1672.0, bhk=3, price_per_sqft=8971.291866, availability=\"Ready To Move\", area_type=\"Super built-up  Area\", location=\"other\")"
      ]
    },
    {
      "cell_type": "code",
      "execution_count": null,
      "metadata": {
        "id": "q8VJ6TvPScS6",
        "colab": {
          "base_uri": "https://localhost:8080/",
          "height": 179
        },
        "outputId": "b69301f9-ea7c-4923-b35b-da861039d7f0"
      },
      "outputs": [
        {
          "output_type": "execute_result",
          "data": {
            "text/plain": [
              "   size_bhk  total_sqft  bath  balcony   price  price_per_sqft  availability  \\\n",
              "0       2.0      1056.0   2.0      1.0   39.07     3699.810606             0   \n",
              "1       4.0      2600.0   5.0      3.0  120.00     4615.384615             1   \n",
              "\n",
              "   area_type_Built-up  Area  area_type_Carpet  Area  area_type_Plot  Area  \\\n",
              "0                         0                       0                     0   \n",
              "1                         0                       0                     1   \n",
              "\n",
              "   ...  location_Varthur  location_Vidyaranyapura  location_Vijayanagar  \\\n",
              "0  ...                 0                        0                     0   \n",
              "1  ...                 0                        0                     0   \n",
              "\n",
              "   location_Vittasandra  location_Whitefield  location_Yelachenahalli  \\\n",
              "0                     0                    0                        0   \n",
              "1                     0                    0                        0   \n",
              "\n",
              "   location_Yelahanka  location_Yelahanka New Town  location_Yeshwanthpur  \\\n",
              "0                   0                            0                      0   \n",
              "1                   0                            0                      0   \n",
              "\n",
              "   location_other  \n",
              "0               0  \n",
              "1               0  \n",
              "\n",
              "[2 rows x 178 columns]"
            ],
            "text/html": [
              "\n",
              "  <div id=\"df-3f002e40-ff04-4a10-88e4-910e4686c8ef\" class=\"colab-df-container\">\n",
              "    <div>\n",
              "<style scoped>\n",
              "    .dataframe tbody tr th:only-of-type {\n",
              "        vertical-align: middle;\n",
              "    }\n",
              "\n",
              "    .dataframe tbody tr th {\n",
              "        vertical-align: top;\n",
              "    }\n",
              "\n",
              "    .dataframe thead th {\n",
              "        text-align: right;\n",
              "    }\n",
              "</style>\n",
              "<table border=\"1\" class=\"dataframe\">\n",
              "  <thead>\n",
              "    <tr style=\"text-align: right;\">\n",
              "      <th></th>\n",
              "      <th>size_bhk</th>\n",
              "      <th>total_sqft</th>\n",
              "      <th>bath</th>\n",
              "      <th>balcony</th>\n",
              "      <th>price</th>\n",
              "      <th>price_per_sqft</th>\n",
              "      <th>availability</th>\n",
              "      <th>area_type_Built-up  Area</th>\n",
              "      <th>area_type_Carpet  Area</th>\n",
              "      <th>area_type_Plot  Area</th>\n",
              "      <th>...</th>\n",
              "      <th>location_Varthur</th>\n",
              "      <th>location_Vidyaranyapura</th>\n",
              "      <th>location_Vijayanagar</th>\n",
              "      <th>location_Vittasandra</th>\n",
              "      <th>location_Whitefield</th>\n",
              "      <th>location_Yelachenahalli</th>\n",
              "      <th>location_Yelahanka</th>\n",
              "      <th>location_Yelahanka New Town</th>\n",
              "      <th>location_Yeshwanthpur</th>\n",
              "      <th>location_other</th>\n",
              "    </tr>\n",
              "  </thead>\n",
              "  <tbody>\n",
              "    <tr>\n",
              "      <th>0</th>\n",
              "      <td>2.0</td>\n",
              "      <td>1056.0</td>\n",
              "      <td>2.0</td>\n",
              "      <td>1.0</td>\n",
              "      <td>39.07</td>\n",
              "      <td>3699.810606</td>\n",
              "      <td>0</td>\n",
              "      <td>0</td>\n",
              "      <td>0</td>\n",
              "      <td>0</td>\n",
              "      <td>...</td>\n",
              "      <td>0</td>\n",
              "      <td>0</td>\n",
              "      <td>0</td>\n",
              "      <td>0</td>\n",
              "      <td>0</td>\n",
              "      <td>0</td>\n",
              "      <td>0</td>\n",
              "      <td>0</td>\n",
              "      <td>0</td>\n",
              "      <td>0</td>\n",
              "    </tr>\n",
              "    <tr>\n",
              "      <th>1</th>\n",
              "      <td>4.0</td>\n",
              "      <td>2600.0</td>\n",
              "      <td>5.0</td>\n",
              "      <td>3.0</td>\n",
              "      <td>120.00</td>\n",
              "      <td>4615.384615</td>\n",
              "      <td>1</td>\n",
              "      <td>0</td>\n",
              "      <td>0</td>\n",
              "      <td>1</td>\n",
              "      <td>...</td>\n",
              "      <td>0</td>\n",
              "      <td>0</td>\n",
              "      <td>0</td>\n",
              "      <td>0</td>\n",
              "      <td>0</td>\n",
              "      <td>0</td>\n",
              "      <td>0</td>\n",
              "      <td>0</td>\n",
              "      <td>0</td>\n",
              "      <td>0</td>\n",
              "    </tr>\n",
              "  </tbody>\n",
              "</table>\n",
              "<p>2 rows × 178 columns</p>\n",
              "</div>\n",
              "    <div class=\"colab-df-buttons\">\n",
              "\n",
              "  <div class=\"colab-df-container\">\n",
              "    <button class=\"colab-df-convert\" onclick=\"convertToInteractive('df-3f002e40-ff04-4a10-88e4-910e4686c8ef')\"\n",
              "            title=\"Convert this dataframe to an interactive table.\"\n",
              "            style=\"display:none;\">\n",
              "\n",
              "  <svg xmlns=\"http://www.w3.org/2000/svg\" height=\"24px\" viewBox=\"0 -960 960 960\">\n",
              "    <path d=\"M120-120v-720h720v720H120Zm60-500h600v-160H180v160Zm220 220h160v-160H400v160Zm0 220h160v-160H400v160ZM180-400h160v-160H180v160Zm440 0h160v-160H620v160ZM180-180h160v-160H180v160Zm440 0h160v-160H620v160Z\"/>\n",
              "  </svg>\n",
              "    </button>\n",
              "\n",
              "  <style>\n",
              "    .colab-df-container {\n",
              "      display:flex;\n",
              "      gap: 12px;\n",
              "    }\n",
              "\n",
              "    .colab-df-convert {\n",
              "      background-color: #E8F0FE;\n",
              "      border: none;\n",
              "      border-radius: 50%;\n",
              "      cursor: pointer;\n",
              "      display: none;\n",
              "      fill: #1967D2;\n",
              "      height: 32px;\n",
              "      padding: 0 0 0 0;\n",
              "      width: 32px;\n",
              "    }\n",
              "\n",
              "    .colab-df-convert:hover {\n",
              "      background-color: #E2EBFA;\n",
              "      box-shadow: 0px 1px 2px rgba(60, 64, 67, 0.3), 0px 1px 3px 1px rgba(60, 64, 67, 0.15);\n",
              "      fill: #174EA6;\n",
              "    }\n",
              "\n",
              "    .colab-df-buttons div {\n",
              "      margin-bottom: 4px;\n",
              "    }\n",
              "\n",
              "    [theme=dark] .colab-df-convert {\n",
              "      background-color: #3B4455;\n",
              "      fill: #D2E3FC;\n",
              "    }\n",
              "\n",
              "    [theme=dark] .colab-df-convert:hover {\n",
              "      background-color: #434B5C;\n",
              "      box-shadow: 0px 1px 3px 1px rgba(0, 0, 0, 0.15);\n",
              "      filter: drop-shadow(0px 1px 2px rgba(0, 0, 0, 0.3));\n",
              "      fill: #FFFFFF;\n",
              "    }\n",
              "  </style>\n",
              "\n",
              "    <script>\n",
              "      const buttonEl =\n",
              "        document.querySelector('#df-3f002e40-ff04-4a10-88e4-910e4686c8ef button.colab-df-convert');\n",
              "      buttonEl.style.display =\n",
              "        google.colab.kernel.accessAllowed ? 'block' : 'none';\n",
              "\n",
              "      async function convertToInteractive(key) {\n",
              "        const element = document.querySelector('#df-3f002e40-ff04-4a10-88e4-910e4686c8ef');\n",
              "        const dataTable =\n",
              "          await google.colab.kernel.invokeFunction('convertToInteractive',\n",
              "                                                    [key], {});\n",
              "        if (!dataTable) return;\n",
              "\n",
              "        const docLinkHtml = 'Like what you see? Visit the ' +\n",
              "          '<a target=\"_blank\" href=https://colab.research.google.com/notebooks/data_table.ipynb>data table notebook</a>'\n",
              "          + ' to learn more about interactive tables.';\n",
              "        element.innerHTML = '';\n",
              "        dataTable['output_type'] = 'display_data';\n",
              "        await google.colab.output.renderOutput(dataTable, element);\n",
              "        const docLink = document.createElement('div');\n",
              "        docLink.innerHTML = docLinkHtml;\n",
              "        element.appendChild(docLink);\n",
              "      }\n",
              "    </script>\n",
              "  </div>\n",
              "\n",
              "\n",
              "    <div id=\"df-fd286128-a970-4218-b716-effc82c90edf\">\n",
              "      <button class=\"colab-df-quickchart\" onclick=\"quickchart('df-fd286128-a970-4218-b716-effc82c90edf')\"\n",
              "                title=\"Suggest charts\"\n",
              "                style=\"display:none;\">\n",
              "\n",
              "<svg xmlns=\"http://www.w3.org/2000/svg\" height=\"24px\"viewBox=\"0 0 24 24\"\n",
              "     width=\"24px\">\n",
              "    <g>\n",
              "        <path d=\"M19 3H5c-1.1 0-2 .9-2 2v14c0 1.1.9 2 2 2h14c1.1 0 2-.9 2-2V5c0-1.1-.9-2-2-2zM9 17H7v-7h2v7zm4 0h-2V7h2v10zm4 0h-2v-4h2v4z\"/>\n",
              "    </g>\n",
              "</svg>\n",
              "      </button>\n",
              "\n",
              "<style>\n",
              "  .colab-df-quickchart {\n",
              "      --bg-color: #E8F0FE;\n",
              "      --fill-color: #1967D2;\n",
              "      --hover-bg-color: #E2EBFA;\n",
              "      --hover-fill-color: #174EA6;\n",
              "      --disabled-fill-color: #AAA;\n",
              "      --disabled-bg-color: #DDD;\n",
              "  }\n",
              "\n",
              "  [theme=dark] .colab-df-quickchart {\n",
              "      --bg-color: #3B4455;\n",
              "      --fill-color: #D2E3FC;\n",
              "      --hover-bg-color: #434B5C;\n",
              "      --hover-fill-color: #FFFFFF;\n",
              "      --disabled-bg-color: #3B4455;\n",
              "      --disabled-fill-color: #666;\n",
              "  }\n",
              "\n",
              "  .colab-df-quickchart {\n",
              "    background-color: var(--bg-color);\n",
              "    border: none;\n",
              "    border-radius: 50%;\n",
              "    cursor: pointer;\n",
              "    display: none;\n",
              "    fill: var(--fill-color);\n",
              "    height: 32px;\n",
              "    padding: 0;\n",
              "    width: 32px;\n",
              "  }\n",
              "\n",
              "  .colab-df-quickchart:hover {\n",
              "    background-color: var(--hover-bg-color);\n",
              "    box-shadow: 0 1px 2px rgba(60, 64, 67, 0.3), 0 1px 3px 1px rgba(60, 64, 67, 0.15);\n",
              "    fill: var(--button-hover-fill-color);\n",
              "  }\n",
              "\n",
              "  .colab-df-quickchart-complete:disabled,\n",
              "  .colab-df-quickchart-complete:disabled:hover {\n",
              "    background-color: var(--disabled-bg-color);\n",
              "    fill: var(--disabled-fill-color);\n",
              "    box-shadow: none;\n",
              "  }\n",
              "\n",
              "  .colab-df-spinner {\n",
              "    border: 2px solid var(--fill-color);\n",
              "    border-color: transparent;\n",
              "    border-bottom-color: var(--fill-color);\n",
              "    animation:\n",
              "      spin 1s steps(1) infinite;\n",
              "  }\n",
              "\n",
              "  @keyframes spin {\n",
              "    0% {\n",
              "      border-color: transparent;\n",
              "      border-bottom-color: var(--fill-color);\n",
              "      border-left-color: var(--fill-color);\n",
              "    }\n",
              "    20% {\n",
              "      border-color: transparent;\n",
              "      border-left-color: var(--fill-color);\n",
              "      border-top-color: var(--fill-color);\n",
              "    }\n",
              "    30% {\n",
              "      border-color: transparent;\n",
              "      border-left-color: var(--fill-color);\n",
              "      border-top-color: var(--fill-color);\n",
              "      border-right-color: var(--fill-color);\n",
              "    }\n",
              "    40% {\n",
              "      border-color: transparent;\n",
              "      border-right-color: var(--fill-color);\n",
              "      border-top-color: var(--fill-color);\n",
              "    }\n",
              "    60% {\n",
              "      border-color: transparent;\n",
              "      border-right-color: var(--fill-color);\n",
              "    }\n",
              "    80% {\n",
              "      border-color: transparent;\n",
              "      border-right-color: var(--fill-color);\n",
              "      border-bottom-color: var(--fill-color);\n",
              "    }\n",
              "    90% {\n",
              "      border-color: transparent;\n",
              "      border-bottom-color: var(--fill-color);\n",
              "    }\n",
              "  }\n",
              "</style>\n",
              "\n",
              "      <script>\n",
              "        async function quickchart(key) {\n",
              "          const quickchartButtonEl =\n",
              "            document.querySelector('#' + key + ' button');\n",
              "          quickchartButtonEl.disabled = true;  // To prevent multiple clicks.\n",
              "          quickchartButtonEl.classList.add('colab-df-spinner');\n",
              "          try {\n",
              "            const charts = await google.colab.kernel.invokeFunction(\n",
              "                'suggestCharts', [key], {});\n",
              "          } catch (error) {\n",
              "            console.error('Error during call to suggestCharts:', error);\n",
              "          }\n",
              "          quickchartButtonEl.classList.remove('colab-df-spinner');\n",
              "          quickchartButtonEl.classList.add('colab-df-quickchart-complete');\n",
              "        }\n",
              "        (() => {\n",
              "          let quickchartButtonEl =\n",
              "            document.querySelector('#df-fd286128-a970-4218-b716-effc82c90edf button');\n",
              "          quickchartButtonEl.style.display =\n",
              "            google.colab.kernel.accessAllowed ? 'block' : 'none';\n",
              "        })();\n",
              "      </script>\n",
              "    </div>\n",
              "\n",
              "    </div>\n",
              "  </div>\n"
            ],
            "application/vnd.google.colaboratory.intrinsic+json": {
              "type": "dataframe",
              "variable_name": "df"
            }
          },
          "metadata": {},
          "execution_count": 33
        }
      ],
      "source": [
        "df.head(2)"
      ]
    },
    {
      "cell_type": "markdown",
      "metadata": {
        "id": "KjSq-NS8yxcV"
      },
      "source": [
        "# Save model & load model"
      ]
    },
    {
      "cell_type": "code",
      "source": [
        "import joblib\n",
        "# save model\n",
        "joblib.dump(rfr, 'bangalore_house_price_prediction_model.pkl')\n",
        "joblib.dump(rfr, 'bangalore_house_price_prediction_rfr_model.pkl')"
      ],
      "metadata": {
        "colab": {
          "base_uri": "https://localhost:8080/"
        },
        "id": "BghFTvy6qHAB",
        "outputId": "0c8ccf36-9194-4b3e-f125-414fd3d27393"
      },
      "execution_count": null,
      "outputs": [
        {
          "output_type": "execute_result",
          "data": {
            "text/plain": [
              "['bangalore_house_price_prediction_rfr_model.pkl']"
            ]
          },
          "metadata": {},
          "execution_count": 35
        }
      ]
    },
    {
      "cell_type": "code",
      "source": [
        "# load model\n",
        "bangalore_house_price_prediction_rfr_model = joblib.load(\"bangalore_house_price_prediction_rfr_model.pkl\")"
      ],
      "metadata": {
        "id": "Rpcmd9u7qQDq"
      },
      "execution_count": null,
      "outputs": []
    },
    {
      "cell_type": "code",
      "source": [
        "# predict house price\n",
        "predict_house_price(bangalore_house_price_prediction_rfr_model, X_columns=X.columns, sc=sc, bath=3,balcony=3,total_sqft=1750,bhk=3,price_per_sqft=8514.285714,area_type=\"Built-up  Area\",availability=\"Ready To Move\",location=\"other\")"
      ],
      "metadata": {
        "colab": {
          "base_uri": "https://localhost:8080/"
        },
        "id": "CWfJkHmRqVfL",
        "outputId": "927e5fb7-205d-4112-bd5a-5151b045be9c"
      },
      "execution_count": null,
      "outputs": [
        {
          "output_type": "stream",
          "name": "stdout",
          "text": [
            "Warning: area_type 'Built-up  Area' not found in training data. Assuming a value of 0.\n"
          ]
        },
        {
          "output_type": "stream",
          "name": "stderr",
          "text": [
            "/usr/local/lib/python3.12/dist-packages/sklearn/utils/validation.py:2739: UserWarning: X does not have valid feature names, but StandardScaler was fitted with feature names\n",
            "  warnings.warn(\n"
          ]
        },
        {
          "output_type": "execute_result",
          "data": {
            "text/plain": [
              "np.float64(149.15)"
            ]
          },
          "metadata": {},
          "execution_count": 42
        }
      ]
    },
    {
      "cell_type": "code",
      "source": [],
      "metadata": {
        "id": "yvgdWaqvrDh2"
      },
      "execution_count": null,
      "outputs": []
    }
  ],
  "metadata": {
    "colab": {
      "provenance": []
    },
    "kernelspec": {
      "display_name": "Python 3",
      "name": "python3"
    },
    "language_info": {
      "name": "python"
    }
  },
  "nbformat": 4,
  "nbformat_minor": 0
}